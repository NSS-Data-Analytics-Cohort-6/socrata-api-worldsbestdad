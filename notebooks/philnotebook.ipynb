{
 "cells": [
  {
   "cell_type": "code",
   "execution_count": 14,
   "id": "4ec8d6d8",
   "metadata": {},
   "outputs": [],
   "source": [
    "import requests\n",
    "import matplotlib.pyplot as plt\n",
    "import json\n",
    "import pandas as pd\n",
    "import seaborn as sns\n",
    "from sodapy import Socrata"
   ]
  },
  {
   "cell_type": "markdown",
   "id": "d039f329",
   "metadata": {},
   "source": [
    "I am a bit too confused for the evening to continue on this for the evening, but i look forward to tackling it on Saturday"
   ]
  },
  {
   "cell_type": "code",
   "execution_count": 2,
   "id": "ff0de22a",
   "metadata": {},
   "outputs": [],
   "source": [
    "endpoint = 'https://data.nashville.gov/resource/fuaa-r5cm.json'\n",
    "\n",
    "response = requests.get(endpoint)"
   ]
  },
  {
   "cell_type": "markdown",
   "id": "7d19bb02",
   "metadata": {},
   "source": [
    "Using a smarter person's documentation on how to get SODA consumer API working\n",
    "https://holowczak.com/getting-started-with-nyc-opendata-and-the-socrata-api/5/"
   ]
  },
  {
   "cell_type": "code",
   "execution_count": 3,
   "id": "3eea3d71",
   "metadata": {},
   "outputs": [],
   "source": [
    "data_url='data.nashville.gov'    # The Host Name for the API endpoint (the https:// part will be added automatically)\n",
    "data_set='fuaa-r5cm'    # The data set at the API endpoint (311 data in this case)\n",
    "app_token='1NEpltWqHEPKa8Gs8qXhUIyel'   # The app token created in the prior steps\n",
    "client = Socrata(data_url,app_token)      # Create the client to point to the API endpoint\n",
    "# Set the timeout to 60 seconds    \n",
    "client.timeout = 60\n",
    "# Retrieve the first 2000 results returned as JSON object from the API\n",
    "# The SoDaPy library converts this JSON object to a Python list of dictionaries\n",
    "results = client.get(data_set, limit=2000)\n",
    "# Convert the list of dictionaries to a Pandas data frame\n",
    "df = pd.DataFrame.from_records(results)\n",
    "# Save the data frame to a CSV file\n",
    "df.to_csv(\"my_top500searches.csv\")"
   ]
  },
  {
   "cell_type": "code",
   "execution_count": 4,
   "id": "4134d736",
   "metadata": {},
   "outputs": [],
   "source": [
    "with open('../data/keys.json') as fi:\n",
    "    credentials = json.load(fi)"
   ]
  },
  {
   "cell_type": "code",
   "execution_count": 5,
   "id": "ecf9ce3a",
   "metadata": {},
   "outputs": [
    {
     "data": {
      "text/plain": [
       "['Month Name', 'Month', 'Year', 'Query Count', 'Query Text']"
      ]
     },
     "execution_count": 5,
     "metadata": {},
     "output_type": "execute_result"
    }
   ],
   "source": [
    "metadata = client.get_metadata(data_set)\n",
    "[x['name'] for x in metadata['columns']]"
   ]
  },
  {
   "cell_type": "markdown",
   "id": "e3e4ee76",
   "metadata": {},
   "source": [
    "Q1. Make an API request that returns the months where \"fire\" was searched in 2016. Which month had the most searches?\n",
    "August had the most!"
   ]
  },
  {
   "cell_type": "code",
   "execution_count": 6,
   "id": "52d941d8",
   "metadata": {},
   "outputs": [
    {
     "data": {
      "text/plain": [
       "[{'month_name': 'August',\n",
       "  'year': '2016',\n",
       "  'query_count': '47',\n",
       "  'query_text': 'fire'},\n",
       " {'month_name': 'December',\n",
       "  'year': '2016',\n",
       "  'query_count': '38',\n",
       "  'query_text': 'fire'},\n",
       " {'month_name': 'October',\n",
       "  'year': '2016',\n",
       "  'query_count': '38',\n",
       "  'query_text': 'fire'},\n",
       " {'month_name': 'September',\n",
       "  'year': '2016',\n",
       "  'query_count': '36',\n",
       "  'query_text': 'fire'},\n",
       " {'month_name': 'February',\n",
       "  'year': '2016',\n",
       "  'query_count': '35',\n",
       "  'query_text': 'fire'},\n",
       " {'month_name': 'March',\n",
       "  'year': '2016',\n",
       "  'query_count': '32',\n",
       "  'query_text': 'fire'},\n",
       " {'month_name': 'November',\n",
       "  'year': '2016',\n",
       "  'query_count': '32',\n",
       "  'query_text': 'fire'},\n",
       " {'month_name': 'June',\n",
       "  'year': '2016',\n",
       "  'query_count': '31',\n",
       "  'query_text': 'fire'},\n",
       " {'month_name': 'April',\n",
       "  'year': '2016',\n",
       "  'query_count': '26',\n",
       "  'query_text': 'fire'},\n",
       " {'month_name': 'July',\n",
       "  'year': '2016',\n",
       "  'query_count': '24',\n",
       "  'query_text': 'fire'},\n",
       " {'month_name': 'May',\n",
       "  'year': '2016',\n",
       "  'query_count': '24',\n",
       "  'query_text': 'fire'},\n",
       " {'month_name': 'January',\n",
       "  'year': '2016',\n",
       "  'query_count': '19',\n",
       "  'query_text': 'fire'}]"
      ]
     },
     "execution_count": 6,
     "metadata": {},
     "output_type": "execute_result"
    }
   ],
   "source": [
    "endpoint1 = 'https://data.nashville.gov/resource/fuaa-r5cm.json?year=2016&query_text=fire&$order= query_count DESC'\n",
    "\n",
    "response1 = requests.get(endpoint1)\n",
    "\n",
    "response1.json()"
   ]
  },
  {
   "cell_type": "markdown",
   "id": "14012d66",
   "metadata": {},
   "source": [
    "Q2. Make an API request that returns all the times a query was run more than 100 times in a month. How many times did this occur?\n",
    "Looks like 1000!(?)"
   ]
  },
  {
   "cell_type": "code",
   "execution_count": 7,
   "id": "10c9f9b9",
   "metadata": {},
   "outputs": [
    {
     "data": {
      "text/plain": [
       "1000"
      ]
     },
     "execution_count": 7,
     "metadata": {},
     "output_type": "execute_result"
    }
   ],
   "source": [
    "endpoint2 = 'https://data.nashville.gov/resource/fuaa-r5cm.json?$where= query_count > 100'\n",
    "\n",
    "response2 = requests.get(endpoint2)\n",
    "\n",
    "len(response2.json())"
   ]
  },
  {
   "cell_type": "markdown",
   "id": "9f561880",
   "metadata": {},
   "source": [
    "Q3. Make another API request that returns all the times \"codes\" was searched more than 100 times in a month. How many times did this occur?\n",
    "56 times!"
   ]
  },
  {
   "cell_type": "code",
   "execution_count": 8,
   "id": "7c7663aa",
   "metadata": {},
   "outputs": [
    {
     "data": {
      "text/plain": [
       "56"
      ]
     },
     "execution_count": 8,
     "metadata": {},
     "output_type": "execute_result"
    }
   ],
   "source": [
    "endpoint3 = 'https://data.nashville.gov/resource/fuaa-r5cm.json?query_text=codes&$where= query_count > 100'\n",
    "\n",
    "response3 = requests.get(endpoint3)\n",
    "\n",
    "len(response3.json())"
   ]
  },
  {
   "cell_type": "markdown",
   "id": "03209154",
   "metadata": {},
   "source": [
    "Q4.Make an API request that returns the entire Top 500 Monthly Searches dataset. Make a chart that shows the number of times \"maps\" was searched in a month across the entire time frame."
   ]
  },
  {
   "cell_type": "code",
   "execution_count": 20,
   "id": "f714bc8f",
   "metadata": {},
   "outputs": [
    {
     "data": {
      "text/html": [
       "<div>\n",
       "<style scoped>\n",
       "    .dataframe tbody tr th:only-of-type {\n",
       "        vertical-align: middle;\n",
       "    }\n",
       "\n",
       "    .dataframe tbody tr th {\n",
       "        vertical-align: top;\n",
       "    }\n",
       "\n",
       "    .dataframe thead th {\n",
       "        text-align: right;\n",
       "    }\n",
       "</style>\n",
       "<table border=\"1\" class=\"dataframe\">\n",
       "  <thead>\n",
       "    <tr style=\"text-align: right;\">\n",
       "      <th></th>\n",
       "      <th>month_name</th>\n",
       "      <th>year</th>\n",
       "      <th>query_count</th>\n",
       "      <th>query_text</th>\n",
       "    </tr>\n",
       "  </thead>\n",
       "  <tbody>\n",
       "    <tr>\n",
       "      <th>0</th>\n",
       "      <td>January</td>\n",
       "      <td>2014</td>\n",
       "      <td>223</td>\n",
       "      <td>ebid</td>\n",
       "    </tr>\n",
       "    <tr>\n",
       "      <th>1</th>\n",
       "      <td>January</td>\n",
       "      <td>2014</td>\n",
       "      <td>112</td>\n",
       "      <td>property maps</td>\n",
       "    </tr>\n",
       "    <tr>\n",
       "      <th>2</th>\n",
       "      <td>January</td>\n",
       "      <td>2014</td>\n",
       "      <td>97</td>\n",
       "      <td>maps</td>\n",
       "    </tr>\n",
       "    <tr>\n",
       "      <th>3</th>\n",
       "      <td>January</td>\n",
       "      <td>2014</td>\n",
       "      <td>90</td>\n",
       "      <td>property tax</td>\n",
       "    </tr>\n",
       "    <tr>\n",
       "      <th>4</th>\n",
       "      <td>January</td>\n",
       "      <td>2014</td>\n",
       "      <td>76</td>\n",
       "      <td>jobs</td>\n",
       "    </tr>\n",
       "    <tr>\n",
       "      <th>...</th>\n",
       "      <td>...</td>\n",
       "      <td>...</td>\n",
       "      <td>...</td>\n",
       "      <td>...</td>\n",
       "    </tr>\n",
       "    <tr>\n",
       "      <th>1995</th>\n",
       "      <td>April</td>\n",
       "      <td>2014</td>\n",
       "      <td>7</td>\n",
       "      <td>metro action commission</td>\n",
       "    </tr>\n",
       "    <tr>\n",
       "      <th>1996</th>\n",
       "      <td>April</td>\n",
       "      <td>2014</td>\n",
       "      <td>7</td>\n",
       "      <td>sponsorship rules</td>\n",
       "    </tr>\n",
       "    <tr>\n",
       "      <th>1997</th>\n",
       "      <td>April</td>\n",
       "      <td>2014</td>\n",
       "      <td>7</td>\n",
       "      <td>seasonal</td>\n",
       "    </tr>\n",
       "    <tr>\n",
       "      <th>1998</th>\n",
       "      <td>April</td>\n",
       "      <td>2014</td>\n",
       "      <td>7</td>\n",
       "      <td>Cumberland park</td>\n",
       "    </tr>\n",
       "    <tr>\n",
       "      <th>1999</th>\n",
       "      <td>April</td>\n",
       "      <td>2014</td>\n",
       "      <td>7</td>\n",
       "      <td>phone</td>\n",
       "    </tr>\n",
       "  </tbody>\n",
       "</table>\n",
       "<p>2000 rows × 4 columns</p>\n",
       "</div>"
      ],
      "text/plain": [
       "     month_name  year  query_count               query_text\n",
       "0       January  2014          223                     ebid\n",
       "1       January  2014          112            property maps\n",
       "2       January  2014           97                     maps\n",
       "3       January  2014           90             property tax\n",
       "4       January  2014           76                     jobs\n",
       "...         ...   ...          ...                      ...\n",
       "1995      April  2014            7  metro action commission\n",
       "1996      April  2014            7        sponsorship rules\n",
       "1997      April  2014            7                 seasonal\n",
       "1998      April  2014            7          Cumberland park\n",
       "1999      April  2014            7                    phone\n",
       "\n",
       "[2000 rows x 4 columns]"
      ]
     },
     "execution_count": 20,
     "metadata": {},
     "output_type": "execute_result"
    }
   ],
   "source": [
    "df['year'] = df['year'].astype(int)\n",
    "df['query_count'] = df['query_count'].astype(int)\n",
    "df"
   ]
  },
  {
   "cell_type": "code",
   "execution_count": 21,
   "id": "688d311c",
   "metadata": {},
   "outputs": [],
   "source": [
    "maps_df= df[df['query_text']=='maps']"
   ]
  },
  {
   "cell_type": "code",
   "execution_count": 22,
   "id": "0794c6d4",
   "metadata": {},
   "outputs": [
    {
     "name": "stderr",
     "output_type": "stream",
     "text": [
      "C:\\Users\\phili\\anaconda3\\lib\\site-packages\\seaborn\\_decorators.py:36: FutureWarning: Pass the following variables as keyword args: x, y. From version 0.12, the only valid positional argument will be `data`, and passing other arguments without an explicit keyword will result in an error or misinterpretation.\n",
      "  warnings.warn(\n"
     ]
    },
    {
     "data": {
      "image/png": "[encoded data removed]",
      "text/plain": [
       "<Figure size 432x288 with 1 Axes>"
      ]
     },
     "metadata": {
      "needs_background": "light"
     },
     "output_type": "display_data"
    }
   ],
   "source": [
    "maps_bar = sns.barplot(maps_df['month_name'],maps_df['query_count'])\n",
    "#maps_bar.set_xticklabels(maps_bar.get_xticklabels(), rotation=45, horizontalalignment='right')"
   ]
  },
  {
   "cell_type": "code",
   "execution_count": null,
   "id": "9cbe1aa0",
   "metadata": {},
   "outputs": [],
   "source": []
  }
 ],
 "metadata": {
  "kernelspec": {
   "display_name": "Python 3 (ipykernel)",
   "language": "python",
   "name": "python3"
  },
  "language_info": {
   "codemirror_mode": {
    "name": "ipython",
    "version": 3
   },
   "file_extension": ".py",
   "mimetype": "text/x-python",
   "name": "python",
   "nbconvert_exporter": "python",
   "pygments_lexer": "ipython3",
   "version": "3.9.7"
  }
 },
 "nbformat": 4,
 "nbformat_minor": 5
}
