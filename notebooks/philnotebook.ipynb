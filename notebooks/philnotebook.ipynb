{
 "cells": [
  {
   "cell_type": "code",
   "execution_count": 1,
   "id": "4ec8d6d8",
   "metadata": {},
   "outputs": [],
   "source": [
    "import requests\n",
    "import matplotlib.pyplot as plt\n",
    "import json\n",
    "import pandas as pd\n",
    "from sodapy import Socrata"
   ]
  },
  {
   "cell_type": "markdown",
   "id": "d039f329",
   "metadata": {},
   "source": [
    "I am a bit too confused for the evening to continue on this for the evening, but i look forward to tackling it on Saturday"
   ]
  },
  {
   "cell_type": "code",
   "execution_count": 8,
   "id": "ff0de22a",
   "metadata": {},
   "outputs": [],
   "source": [
    "endpoint = 'https://data.nashville.gov/resource/fuaa-r5cm.json'\n",
    "\n",
    "response = requests.get(endpoint)"
   ]
  },
  {
   "cell_type": "markdown",
   "id": "c2a8a39b",
   "metadata": {},
   "source": [
    "Using a smarter person's documentation on how to get SODA consumer API working\n",
    "https://holowczak.com/getting-started-with-nyc-opendata-and-the-socrata-api/5/"
   ]
  },
  {
   "cell_type": "code",
   "execution_count": 10,
   "id": "9ce0797a",
   "metadata": {},
   "outputs": [],
   "source": [
    "data_url='data.nashville.gov'    # The Host Name for the API endpoint (the https:// part will be added automatically)\n",
    "data_set='fuaa-r5cm'    # The data set at the API endpoint (311 data in this case)\n",
    "app_token='1NEpltWqHEPKa8Gs8qXhUIyel'   # The app token created in the prior steps\n",
    "client = Socrata(data_url,app_token)      # Create the client to point to the API endpoint\n",
    "# Set the timeout to 60 seconds    \n",
    "client.timeout = 60\n",
    "# Retrieve the first 2000 results returned as JSON object from the API\n",
    "# The SoDaPy library converts this JSON object to a Python list of dictionaries\n",
    "results = client.get(data_set, limit=2000)\n",
    "# Convert the list of dictionaries to a Pandas data frame\n",
    "df = pd.DataFrame.from_records(results)\n",
    "# Save the data frame to a CSV file\n",
    "df.to_csv(\"my_top500searches.csv\")"
   ]
  },
  {
   "cell_type": "code",
   "execution_count": 14,
   "id": "c1ded091",
   "metadata": {},
   "outputs": [
    {
     "name": "stdout",
     "output_type": "stream",
     "text": [
      "     month_name  year query_count               query_text\n",
      "0       January  2014         223                     ebid\n",
      "1       January  2014         112            property maps\n",
      "2       January  2014          97                     maps\n",
      "3       January  2014          90             property tax\n",
      "4       January  2014          76                     jobs\n",
      "...         ...   ...         ...                      ...\n",
      "1995      April  2014           7  metro action commission\n",
      "1996      April  2014           7        sponsorship rules\n",
      "1997      April  2014           7                 seasonal\n",
      "1998      April  2014           7          Cumberland park\n",
      "1999      April  2014           7                    phone\n",
      "\n",
      "[2000 rows x 4 columns]\n"
     ]
    }
   ],
   "source": [
    "print(df)"
   ]
  },
  {
   "cell_type": "code",
   "execution_count": 12,
   "id": "4134d736",
   "metadata": {},
   "outputs": [],
   "source": [
    "with open('../data/keys.json') as fi:\n",
    "    credentials = json.load(fi)"
   ]
  },
  {
   "cell_type": "code",
   "execution_count": 18,
   "id": "ecf9ce3a",
   "metadata": {},
   "outputs": [
    {
     "data": {
      "text/plain": [
       "['Month Name', 'Month', 'Year', 'Query Count', 'Query Text']"
      ]
     },
     "execution_count": 18,
     "metadata": {},
     "output_type": "execute_result"
    }
   ],
   "source": [
    "metadata = client.get_metadata(data_set)\n",
    "[x['name'] for x in metadata['columns']]"
   ]
  },
  {
   "cell_type": "code",
   "execution_count": null,
   "id": "8d1e75b1",
   "metadata": {},
   "outputs": [],
   "source": [
    "Q1results = client.get(data_set, where=\"complaint_type = 'Unsanitary Animal Pvt Property' \", limit=2000)"
   ]
  }
 ],
 "metadata": {
  "kernelspec": {
   "display_name": "Python 3 (ipykernel)",
   "language": "python",
   "name": "python3"
  },
  "language_info": {
   "codemirror_mode": {
    "name": "ipython",
    "version": 3
   },
   "file_extension": ".py",
   "mimetype": "text/x-python",
   "name": "python",
   "nbconvert_exporter": "python",
   "pygments_lexer": "ipython3",
   "version": "3.9.7"
  }
 },
 "nbformat": 4,
 "nbformat_minor": 5
}
