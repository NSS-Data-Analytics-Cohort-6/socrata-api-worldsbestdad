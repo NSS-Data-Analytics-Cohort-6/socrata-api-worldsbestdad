{
 "cells": [
  {
   "cell_type": "code",
   "execution_count": 3,
   "id": "4ec8d6d8",
   "metadata": {},
   "outputs": [],
   "source": [
    "import requests\n",
    "import matplotlib.pyplot as plt\n",
    "import json"
   ]
  },
  {
   "cell_type": "markdown",
   "id": "d039f329",
   "metadata": {},
   "source": [
    "I am a bit too confused for the evening to continue on this for the evening, but i look forward to tackling it on Saturday"
   ]
  },
  {
   "cell_type": "code",
   "execution_count": 7,
   "id": "ff0de22a",
   "metadata": {},
   "outputs": [],
   "source": [
    "endpoint = 'https://data.nashville.gov/resource/fuaa-r5cm.json'\n",
    "\n",
    "response = requests.get(endpoint)"
   ]
  },
  {
   "cell_type": "code",
   "execution_count": 8,
   "id": "4134d736",
   "metadata": {},
   "outputs": [],
   "source": [
    "with open('../data/keys.json') as fi:\n",
    "    credentials = json.load(fi)"
   ]
  },
  {
   "cell_type": "code",
   "execution_count": null,
   "id": "ecf9ce3a",
   "metadata": {},
   "outputs": [],
   "source": []
  }
 ],
 "metadata": {
  "kernelspec": {
   "display_name": "Python 3 (ipykernel)",
   "language": "python",
   "name": "python3"
  },
  "language_info": {
   "codemirror_mode": {
    "name": "ipython",
    "version": 3
   },
   "file_extension": ".py",
   "mimetype": "text/x-python",
   "name": "python",
   "nbconvert_exporter": "python",
   "pygments_lexer": "ipython3",
   "version": "3.9.7"
  }
 },
 "nbformat": 4,
 "nbformat_minor": 5
}
